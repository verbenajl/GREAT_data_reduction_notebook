{
 "cells": [
  {
   "cell_type": "markdown",
   "metadata": {},
   "source": [
    "# Background\n",
    "This notebook goes through the off position reduction in class for the orion B map"
   ]
  },
  {
   "cell_type": "code",
   "execution_count": 4,
   "metadata": {},
   "outputs": [
    {
     "data": {
      "text/html": [
       "\n",
       "// http://lokeshdhakar.com/projects/lightbox2\n",
       "<link href=\"./notebook_support/lightbox2-master/dist/css/lightbox.css\" rel=\"stylesheet\">\n",
       "\n",
       "<script src=\"./notebook_support/lightbox2-master/dist/js/lightbox.js\"></script>\n",
       "\n",
       "<script>\n",
       "  function code_toggle() {\n",
       "    if (code_shown){\n",
       "      $('div.input').hide('500');\n",
       "      $('#toggleButton').val('Show Code')\n",
       "    } else {\n",
       "      $('div.input').show('500');\n",
       "      $('#toggleButton').val('Hide Code')\n",
       "    }\n",
       "    code_shown = !code_shown\n",
       "  }\n",
       "\n",
       "  $( document ).ready(function(){\n",
       "    code_shown=false;\n",
       "    $('div.input').hide()\n",
       "  });\n",
       "</script>\n",
       "<form action=\"javascript:code_toggle()\"><input type=\"submit\" id=\"toggleButton\" value=\"Show Code\"></form>"
      ],
      "text/plain": [
       "<IPython.core.display.HTML object>"
      ]
     },
     "execution_count": 4,
     "metadata": {},
     "output_type": "execute_result"
    }
   ],
   "source": [
    "from IPython.display import HTML\n",
    "\n",
    "HTML('''\n",
    "// http://lokeshdhakar.com/projects/lightbox2\n",
    "<link href=\"./notebook_support/lightbox2-master/dist/css/lightbox.css\" rel=\"stylesheet\">\n",
    "\n",
    "<script src=\"./notebook_support/lightbox2-master/dist/js/lightbox.js\"></script>\n",
    "\n",
    "<script>\n",
    "  function code_toggle() {\n",
    "    if (code_shown){\n",
    "      $('div.input').hide('500');\n",
    "      $('#toggleButton').val('Show Code')\n",
    "    } else {\n",
    "      $('div.input').show('500');\n",
    "      $('#toggleButton').val('Hide Code')\n",
    "    }\n",
    "    code_shown = !code_shown\n",
    "  }\n",
    "\n",
    "  $( document ).ready(function(){\n",
    "    code_shown=false;\n",
    "    $('div.input').hide()\n",
    "  });\n",
    "</script>\n",
    "<form action=\"javascript:code_toggle()\"><input type=\"submit\" id=\"toggleButton\" value=\"Show Code\"></form>''')"
   ]
  },
  {
   "cell_type": "markdown",
   "metadata": {},
   "source": [
    "# import commands"
   ]
  },
  {
   "cell_type": "code",
   "execution_count": 31,
   "metadata": {},
   "outputs": [],
   "source": [
    "## import\n",
    "from astropy.io import fits\n",
    "import numpy as np\n",
    "import glob\n",
    "import datetime\n",
    "import pandas as pd\n",
    "import logging\n",
    "import os,re\n",
    "import time\n",
    "import subprocess\n",
    "from matplotlib.lines import lineStyles\n",
    "import jinja2\n",
    "import requests\n",
    "\n",
    "# notebook\n",
    "from IPython.display import Image, display\n",
    "from IPython.display import HTML\n",
    "# astropy\n",
    "from astropy.io import fits\n",
    "from astropy import constants as const\n",
    "from astropy import units as u\n",
    "\n",
    "\n",
    "def PrintMessage(message):\n",
    "    html='''\n",
    "    <table style=\"width:100%\">\n",
    "        <tr>\n",
    "            <td style='text-align:center;vertical-align:middle'>{0}</td>\n",
    "        </tr>\n",
    "    </table>\n",
    "    '''\n",
    "    display(HTML(html.format(message)))\n",
    "\n",
    "\n",
    "def Change1dListTo2dList(array, column=2):\n",
    "    test = []\n",
    "    test_row = []\n",
    "    for item in array:\n",
    "        test_row.append(item)\n",
    "        if len(test_row)> column-1:\n",
    "            test.append(test_row)\n",
    "            test_row = []\n",
    "    if len(test_row)>0:\n",
    "        test.append(test_row)\n",
    "    return test\n",
    "\n",
    "def DisplayImagesInColumns(images,image_columns=2, gallery_label=\"\"):\n",
    "    popup_css='''    \n",
    "    \n",
    "    <style>\n",
    "    .thumb img { \n",
    "        border:1px solid #000;\n",
    "        margin:3px;    \n",
    "        float:left;\n",
    "    }\n",
    "    .thumb span { \n",
    "        position:fixed;\n",
    "        visibility:hidden;\n",
    "    }\n",
    "    .thumb:hover, .thumb:hover span { \n",
    "        visibility:visible;\n",
    "        z-index:1;\n",
    "    }\n",
    "\n",
    "    </style>\n",
    "\n",
    "    '''\n",
    "    \n",
    "    html='''    \n",
    "    <a href={0} target=\"_blank\">\n",
    "    <img style='width: {1:2.0f}%; margin: 0px; float: left; border: 0px solid black;' src='{0}?{2}' />\n",
    "    </a>\n",
    "    '''\n",
    "    html='''    \n",
    "    <a href={0}  target=\"_blank\">\n",
    "    <img style='width: {1:2.0f}%; margin: 0px; float: left; border: 0px solid black;' src='{0}?{2}' />\n",
    "    </a>\n",
    "    '''\n",
    "    \n",
    "    #html='''    \n",
    "    #<a href={0}  data-lightbox={3} data-title=\"{0}\">\n",
    "    #<img style='width: {1:2.0f}%; margin: 0px; float: left; border: 0px solid black;' src='{0}?{2}' />\n",
    "    #</a>\n",
    "    #'''\n",
    "    \n",
    "    list2d = Change1dListTo2dList(images, column=image_columns)\n",
    "    width_percent = (1/float(image_columns))*100.0\n",
    "    gallery_label = gallery_label.replace(\" \",\"\")\n",
    "    for row in list2d:\n",
    "        imagesList=popup_css.join( [html.format(image,width_percent-2,time.time(),gallery_label) \n",
    "                     for image in row ])\n",
    "        display(HTML(imagesList))\n",
    "    return imagesList\n",
    "   \n",
    "\n",
    "# Helper Class to run class_cmd_strings and export the images that were created to the notebook\n",
    "class RunClassScript():\n",
    "    def __init__(self, cmd, no_output=False, display_images=True, test=False):\n",
    "        self.cmd = cmd\n",
    "        self.cmd_file = \"/tmp/cmd.class\"\n",
    "        self.cmd_log = \"/tmp/cmd.log\"\n",
    "        self.images = [string.split()[1].replace(\"\\\"\",\"\").replace(\"//\",\"/\") for string in self.cmd.split(\"\\n\") if string[0:2] == \"ha\"]\n",
    "        if self.cmd.split(\"\\n\")[-1].strip() != \"exit 0\":\n",
    "            self.cmd = \"{}\\nexit 0\\n\".format(self.cmd)\n",
    "        subprocess.call([\"rm\", \"-rf\", \"/tmp/cmd.class\"])\n",
    "        fileout = open(self.cmd_file, \"w\")\n",
    "        fileout.write(self.cmd)\n",
    "        fileout.close()\n",
    "        #output = subprocess.check_output(\"class -nw @{0}\".format(self.cmd_file), shell=True)\n",
    "        if test:\n",
    "            print(self.cmd)\n",
    "        try:\n",
    "            output = subprocess.check_call(\"class -nw @{0} > {1}\".format(self.cmd_file,self.cmd_log), shell=True)\n",
    "        except subprocess.CalledProcessError as e:\n",
    "            print(\"======================================\")\n",
    "            print(\"=========== ERROR in class cmd =======\")\n",
    "            print(\"======================================\")\n",
    "            print(\"\\n\")\n",
    "            print(\"======================================\")\n",
    "            print(\"============= INPUT FILE =============\")\n",
    "            print(\"======================================\")\n",
    "            with open(self.cmd_file, 'r') as fin:\n",
    "                for line in fin.readlines():\n",
    "                    if line[0]!=\" \":\n",
    "                        print(line.strip(\"\\n\"))\n",
    "            print(\"======================================\")\n",
    "            print(\"========= OUTPUT LOGFILE =============\")\n",
    "            print(\"======================================\")                        \n",
    "            with open(self.cmd_log, 'r') as fin:\n",
    "                for line in fin.readlines():\n",
    "                    if (len(set(line))>1):\n",
    "                        print(line.strip(\"\\n\"))\n",
    "            raise subprocess.CalledProcessError(e.returncode,e.cmd, e.output)\n",
    "        if output!=0:\n",
    "            print(output)\n",
    "            self.output=output\n",
    "        #\n",
    "        if display_images:\n",
    "            for image in self.images:\n",
    "                if os.path.exists(image):\n",
    "                    #display(image, Image(image),width=300,height=300)\n",
    "                    display(image, Image(image))\n",
    "def GenerateGIFAnimation(images,gif_filename):\n",
    "    convert_cmd = \"convert -delay 50\"\\\n",
    "                  \" -loop 0 \"\\\n",
    "                  \"{0} \"\\\n",
    "                  \"{1}\".format(images,gif_filename)\n",
    "    os.system(convert_cmd)\n",
    "    \n",
    "\n",
    "    from IPython.display import HTML\n",
    "\n",
    "def download_file(url,local_filename):\n",
    "    #local_filename = url.split('/')[-1]\n",
    "    r = requests.get(url)\n",
    "    f = open(local_filename, 'wb')\n",
    "    for chunk in r.iter_content(chunk_size=512 * 1024): \n",
    "        if chunk: # filter out keep-alive new chunks\n",
    "            f.write(chunk)\n",
    "    f.close()\n",
    "    return \n",
    "\n",
    "def show_file_content(file, num_lines=10):\n",
    "    ''' To show class console output '''\n",
    "    a_file = open(file, \"r\")\n",
    "    lines = a_file.readlines()\n",
    "    last_lines= lines[-num_lines:]\n",
    "    for line in last_lines:\n",
    "        print(line+'\\n')"
   ]
  },
  {
   "cell_type": "markdown",
   "metadata": {},
   "source": [
    "# Download test data from archive\n",
    "\n"
   ]
  },
  {
   "cell_type": "code",
   "execution_count": 24,
   "metadata": {},
   "outputs": [
    {
     "name": "stdout",
     "output_type": "stream",
     "text": [
      "downloading https://irsa.ipac.caltech.edu/data/SOFIA/GREAT/OC5A/20170208_F371/proc/p4006/data/2017-02-08_GR_F371_04_0066_0010505_1900536.9.great.tar to ./tmp/data/2017-02-08_GR_F371_04_0066_0010505_1900536.9.great.tar\n",
      " 2017-02-08_GR_F371_04_0066_0010505_1900536.9 extracting\n",
      "tar -xvf ./tmp/data/2017-02-08_GR_F371_04_0066_0010505_1900536.9.great.tar --one-top-level=./tmp/data\n"
     ]
    }
   ],
   "source": [
    "data_folder = \"./tmp/data\"\n",
    "\n",
    "\n",
    "if not os.path.exists(data_folder):\n",
    "    print(\"making folder {0}\".format(data_folder))\n",
    "    #os.makedirs(data_folder)\n",
    "    os.makedirs(data_folder,exist_ok=True)\n",
    "    \n",
    "urls = []\n",
    "#urls.append(\"https://irsa.ipac.caltech.edu/data/SOFIA/GREAT/OC4K/20161110_F348/proc/p8486/data/2016-11-10_GR_F348_04_0066_0010505_1900536.9.great.tar\")\n",
    "urls.append(\"https://irsa.ipac.caltech.edu/data/SOFIA/GREAT/OC5A/20170208_F371/proc/p4006/data/2017-02-08_GR_F371_04_0066_0010505_1900536.9.great.tar\")\n",
    "\n",
    "for url in urls:\n",
    "    filename = \"{0}/{1}\".format(data_folder,url.split('/')[-1])\n",
    "    if not os.path.exists(filename):\n",
    "        print(\"downloading {0} to {1}\".format(url, filename))\n",
    "        download_file(url, filename)\n",
    "    else:\n",
    "        print(\"{1} already downloaded\".format(url, filename))\n",
    "# untar\n",
    "already_downloaded_great = glob.glob(\"tmp/data/**/*.great\")\n",
    "#\n",
    "for url in urls:\n",
    "    # check for great file\n",
    "    tar_filename = \"{0}/{1}\".format(data_folder,url.split('/')[-1])\n",
    "    filename_great,ext = os.path.splitext(tar_filename)\n",
    "    full_filename_great,ext = os.path.splitext(os.path.basename(filename_great))\n",
    "    #\n",
    "    found = [filename for filename in  already_downloaded_great if full_filename_great in filename]\n",
    "    if len(found)>0:\n",
    "        print(\" {0} already extracted\".format(full_filename_great))\n",
    "    else:\n",
    "        print(\" {0} extracting\".format(full_filename_great))\n",
    "        #cmd=\"tar -xvf {0} --wildcards --no-anchored '*Tmb.great' --one-top-level={1}\".format(tar_filename,data_folder)\n",
    "        cmd=\"tar -xvf {0} --one-top-level={1}\".format(tar_filename, data_folder)\n",
    "        print(cmd)\n",
    "        output = subprocess.check_call(cmd, shell=True)"
   ]
  },
  {
   "cell_type": "markdown",
   "metadata": {},
   "source": [
    "#  THE PRODUCTS #\n",
    "## LEVEL 3 DATA ###"
   ]
  },
  {
   "cell_type": "markdown",
   "metadata": {},
   "source": [
    "2 **.great** files:\n",
    "\n",
    "- Scientific target spectra in units of Antenna Temperature and additional output spectra.\n",
    "- Scientific target spectra only, in units of Main Beam Temperature.\n"
   ]
  },
  {
   "cell_type": "markdown",
   "metadata": {},
   "source": [
    "### Antenna Temperature file ###"
   ]
  },
  {
   "cell_type": "code",
   "execution_count": 33,
   "metadata": {},
   "outputs": [],
   "source": [
    "cmd = '''\n",
    "file in \"./tmp/data/2017-02-08_GR_F371_04_0066_0010505_1900536.9/2017-02-08_GR_F371_04_0066_0010505_1900536.9_Tant.great\"\n",
    "find\n",
    "list\n",
    "'''"
   ]
  },
  {
   "cell_type": "code",
   "execution_count": 34,
   "metadata": {},
   "outputs": [],
   "source": [
    "output = RunClassScript(cmd)"
   ]
  },
  {
   "cell_type": "code",
   "execution_count": 35,
   "metadata": {},
   "outputs": [
    {
     "name": "stdout",
     "output_type": "stream",
     "text": [
      "15749;4 TSYS         CII_L        SOF-LFAV_6_S   -732.2   -904.8 Eq 18251 5\n",
      "\n",
      "\n",
      "15750;4 TAU_SIG      CII_L        SOF-LFAV_6_S   -732.2   -904.8 Eq 18251 5\n",
      "\n",
      "\n",
      "15751;4 TAU_IMG      CII_L        SOF-LFAV_6_S   -732.2   -904.8 Eq 18251 5\n",
      "\n",
      "\n",
      "15752;4 TAU_AVG      CII_L        SOF-LFAV_6_S   -732.2   -904.8 Eq 18251 5\n",
      "\n",
      "\n",
      "15753;4 S-H_OBS      CII_L        SOF-LFAV_6_S   -732.2   -904.8 Eq 18251 5\n",
      "\n",
      "\n",
      "15754;4 SKY-DIFF     CII_L        SOF-LFAV_6_S   -732.2   -904.8 Eq 18251 5\n",
      "\n",
      "\n",
      "15755;4 S-H_FIT      CII_L        SOF-LFAV_6_S   -732.2   -904.8 Eq 18251 5\n",
      "\n",
      "\n",
      "15756;4 OMC_CENTER   CII_L        SOF-LFAV_6_S   +215.3   -218.7 Eq 18251 8\n",
      "\n",
      "\n",
      "15757;4 OMC_CENTER   CII_L        SOF-LFAV_6_S   +215.3   -213.5 Eq 18251 8\n",
      "\n",
      "\n",
      "15758;4 OMC_CENTER   CII_L        SOF-LFAV_6_S   +215.3   -208.3 Eq 18251 8\n",
      "\n",
      "\n",
      "15759;4 OMC_CENTER   CII_L        SOF-LFAV_6_S   +215.3   -203.1 Eq 18251 8\n",
      "\n",
      "\n",
      "15760;4 OMC_CENTER   CII_L        SOF-LFAV_6_S   +215.3   -197.9 Eq 18251 8\n",
      "\n",
      "\n",
      "15761;4 OMC_CENTER   CII_L        SOF-LFAV_6_S   +215.3   -192.7 Eq 18251 8\n",
      "\n",
      "\n",
      "15762;4 OMC_CENTER   CII_L        SOF-LFAV_6_S   +215.3   -187.5 Eq 18251 8\n",
      "\n",
      "\n",
      "15763;4 OMC_CENTER   CII_L        SOF-LFAV_6_S   +215.3   -182.3 Eq 18251 8\n",
      "\n",
      "\n",
      "15764;4 OMC_CENTER   CII_L        SOF-LFAV_6_S   +215.3   -177.1 Eq 18251 8\n",
      "\n",
      "\n",
      "15765;4 OMC_CENTER   CII_L        SOF-LFAV_6_S   +215.3   -171.9 Eq 18251 8\n",
      "\n",
      "\n",
      "15766;4 OMC_CENTER   CII_L        SOF-LFAV_6_S   +215.3   -166.7 Eq 18251 8\n",
      "\n",
      "\n",
      "15767;4 OMC_CENTER   CII_L        SOF-LFAV_6_S   +215.3   -161.5 Eq 18251 8\n",
      "\n",
      "\n",
      "15768;4 OMC_CENTER   CII_L        SOF-LFAV_6_S   +215.3   -156.3 Eq 18251 8\n",
      "\n",
      "\n",
      "15769;4 OMC_CENTER   CII_L        SOF-LFAV_6_S   +215.3   -151.1 Eq 18251 8\n",
      "\n",
      "\n",
      "15770;4 OMC_CENTER   CII_L        SOF-LFAV_6_S   +215.3   -145.9 Eq 18251 8\n",
      "\n",
      "\n",
      "15771;4 OMC_CENTER   CII_L        SOF-LFAV_6_S   +215.3   -140.7 Eq 18251 8\n",
      "\n",
      "\n",
      "15772;4 OMC_CENTER   CII_L        SOF-LFAV_6_S   +215.3   -135.5 Eq 18251 8\n",
      "\n",
      "\n",
      "15773;4 OMC_CENTER   CII_L        SOF-LFAV_6_S   +215.3   -130.3 Eq 18251 8\n",
      "\n",
      "\n",
      "15774;4 OMC_CENTER   CII_L        SOF-LFAV_6_S   +215.3   -125.1 Eq 18251 8\n",
      "\n",
      "\n",
      "15775;4 OMC_CENTER   CII_L        SOF-LFAV_6_S   +215.3   -119.9 Eq 18251 8\n",
      "\n",
      "\n",
      "15776;4 OMC_CENTER   CII_L        SOF-LFAV_6_S   +215.3   -114.7 Eq 18251 8\n",
      "\n",
      "\n",
      "15777;4 OMC_CENTER   CII_L        SOF-LFAV_6_S   +215.3   -109.5 Eq 18251 8\n",
      "\n",
      "\n",
      "15778;4 OMC_CENTER   CII_L        SOF-LFAV_6_S   +215.3   -104.3 Eq 18251 8\n",
      "\n",
      "\n",
      "15779;4 OMC_CENTER   CII_L        SOF-LFAV_6_S   +215.3    -99.1 Eq 18251 8\n",
      "\n",
      "\n",
      "15780;4 OMC_CENTER   CII_L        SOF-LFAV_6_S   +215.3    -93.9 Eq 18251 8\n",
      "\n",
      "\n",
      "15781;4 OMC_CENTER   CII_L        SOF-LFAV_6_S   +215.3    -88.7 Eq 18251 8\n",
      "\n",
      "\n",
      "15782;4 OMC_CENTER   CII_L        SOF-LFAV_6_S   +215.3    -83.5 Eq 18251 8\n",
      "\n",
      "\n",
      "15783;4 OMC_CENTER   CII_L        SOF-LFAV_6_S   +215.3    -78.3 Eq 18251 8\n",
      "\n",
      "\n",
      "15784;4 OMC_CENTER   CII_L        SOF-LFAV_6_S   +215.3    -73.1 Eq 18251 8\n",
      "\n",
      "\n",
      "15785;4 OMC_CENTER   CII_L        SOF-LFAV_6_S   +215.3    -67.9 Eq 18251 8\n",
      "\n",
      "\n",
      "15786;4 OMC_CENTER   CII_L        SOF-LFAV_6_S   +215.3    -62.7 Eq 18251 8\n",
      "\n",
      "\n",
      "15787;4 OMC_CENTER   CII_L        SOF-LFAV_6_S   +215.3    -57.5 Eq 18251 8\n",
      "\n",
      "\n",
      "15788;4 OMC_CENTER   CII_L        SOF-LFAV_6_S   +215.3    -52.3 Eq 18251 8\n",
      "\n",
      "\n",
      "15789;4 OMC_CENTER   CII_L        SOF-LFAV_6_S   +215.3    -47.1 Eq 18251 8\n",
      "\n",
      "\n",
      "15790;4 OMC_CENTER   CII_L        SOF-LFAV_6_S   +215.3    -41.9 Eq 18251 8\n",
      "\n",
      "\n",
      "15791;4 OMC_CENTER   CII_L        SOF-LFAV_6_S   +215.3    -36.7 Eq 18251 8\n",
      "\n",
      "\n",
      "15792;4 OMC_CENTER   CII_L        SOF-LFAV_6_S   +215.3    -31.5 Eq 18251 8\n",
      "\n",
      "\n",
      "15793;4 OMC_CENTER   CII_L        SOF-LFAV_6_S   +215.3    -26.3 Eq 18251 8\n",
      "\n",
      "\n",
      "15794;4 OMC_CENTER   CII_L        SOF-LFAV_6_S   +215.3    -21.1 Eq 18251 8\n",
      "\n",
      "\n",
      "15795;4 OMC_CENTER   CII_L        SOF-LFAV_6_S   +215.3    -15.9 Eq 18251 8\n",
      "\n",
      "\n",
      "15796;4 OMC_CENTER   CII_L        SOF-LFAV_6_S   +215.3    -10.7 Eq 18251 8\n",
      "\n",
      "\n",
      "15797;4 OMC_CENTER   CII_L        SOF-LFAV_6_S   +215.3     -5.5 Eq 18251 8\n",
      "\n",
      "\n",
      "15798;4 OMC_CENTER   CII_L        SOF-LFAV_6_S   +215.3     -0.3 Eq 18251 8\n",
      "\n",
      "\n",
      "15799;4 OMC_CENTER   CII_L        SOF-LFAV_6_S   +215.3     +4.9 Eq 18251 8\n",
      "\n",
      "\n",
      "15800;4 OMC_CENTER   CII_L        SOF-LFAV_6_S   +215.3    +10.1 Eq 18251 8\n",
      "\n",
      "\n",
      "15801;4 OMC_CENTER   CII_L        SOF-LFAV_6_S   +215.3    +15.3 Eq 18251 8\n",
      "\n",
      "\n",
      "15802;4 OMC_CENTER   CII_L        SOF-LFAV_6_S   +215.3    +20.5 Eq 18251 8\n",
      "\n",
      "\n",
      "15803;4 OMC_CENTER   CII_L        SOF-LFAV_6_S   +215.3    +25.7 Eq 18251 8\n",
      "\n",
      "\n",
      "15804;4 OMC_CENTER   CII_L        SOF-LFAV_6_S   +215.3    +30.9 Eq 18251 8\n",
      "\n",
      "\n",
      "15805;4 OMC_CENTER   CII_L        SOF-LFAV_6_S   +215.3    +36.1 Eq 18251 8\n",
      "\n",
      "\n",
      "15806;4 OMC_CENTER   CII_L        SOF-LFAV_6_S   +215.3    +41.3 Eq 18251 8\n",
      "\n",
      "\n",
      "15807;4 OMC_CENTER   CII_L        SOF-LFAV_6_S   +215.3    +46.5 Eq 18251 8\n",
      "\n",
      "\n",
      "15808;4 OMC_CENTER   CII_L        SOF-LFAV_6_S   +215.3    +51.7 Eq 18251 8\n",
      "\n",
      "\n",
      "15809;4 OMC_CENTER   CII_L        SOF-LFAV_6_S   +215.3    +56.9 Eq 18251 8\n",
      "\n",
      "\n",
      "15810;4 OMC_CENTER   CII_L        SOF-LFAV_6_S   +215.3    +62.1 Eq 18251 8\n",
      "\n",
      "\n",
      "15811;4 OMC_CENTER   CII_L        SOF-LFAV_6_S   +215.3    +67.3 Eq 18251 8\n",
      "\n",
      "\n",
      "15812;4 OMC_CENTER   CII_L        SOF-LFAV_6_S   +215.3    +72.5 Eq 18251 8\n",
      "\n",
      "\n",
      "15813;4 OMC_CENTER   CII_L        SOF-LFAV_6_S   +215.3    +77.7 Eq 18251 8\n",
      "\n",
      "\n",
      "15814;4 OMC_CENTER   CII_L        SOF-LFAV_6_S   +215.3    +82.9 Eq 18251 8\n",
      "\n",
      "\n",
      "15815;4 OMC_CENTER   CII_L        SOF-LFAV_6_S   +215.3    +88.1 Eq 18251 8\n",
      "\n",
      "\n",
      "15816;4 OMC_CENTER   CII_L        SOF-LFAV_6_S   +215.3    +93.3 Eq 18251 8\n",
      "\n",
      "\n",
      "15817;4 OMC_CENTER   CII_L        SOF-LFAV_6_S   +215.3    +98.5 Eq 18251 8\n",
      "\n",
      "\n",
      "15818;4 OMC_CENTER   CII_L        SOF-LFAV_6_S   +215.3   +103.7 Eq 18251 8\n",
      "\n",
      "\n",
      "15819;4 OMC_CENTER   CII_L        SOF-LFAV_6_S   +215.3   +108.9 Eq 18251 8\n",
      "\n",
      "\n",
      "15820;4 OMC_CENTER   CII_L        SOF-LFAV_6_S   +215.3   +114.1 Eq 18251 8\n",
      "\n",
      "\n",
      "15821;4 OMC_CENTER   CII_L        SOF-LFAV_6_S   +215.3   +119.3 Eq 18251 8\n",
      "\n",
      "\n",
      "15822;4 OMC_CENTER   CII_L        SOF-LFAV_6_S   +215.3   +124.5 Eq 18251 8\n",
      "\n",
      "\n",
      "15823;4 OMC_CENTER   CII_L        SOF-LFAV_6_S   +215.3   +129.7 Eq 18251 8\n",
      "\n",
      "\n",
      "15824;4 OMC_CENTER   CII_L        SOF-LFAV_6_S   +215.3   +134.9 Eq 18251 8\n",
      "\n",
      "\n",
      "15825;4 OMC_CENTER   CII_L        SOF-LFAV_6_S   +215.3   +140.1 Eq 18251 8\n",
      "\n",
      "\n",
      "15826;4 OMC_CENTER   CII_L        SOF-LFAV_6_S   +215.3   +145.3 Eq 18251 8\n",
      "\n",
      "\n",
      "15827;4 OMC_CENTER   CII_L        SOF-LFAV_6_S   +215.3   +150.5 Eq 18251 8\n",
      "\n",
      "\n",
      "15828;4 OMC_CENTER   CII_L        SOF-LFAV_6_S   +215.3   +155.7 Eq 18251 8\n",
      "\n",
      "\n",
      "15829;4 OMC_CENTER   CII_L        SOF-LFAV_6_S   +215.3   +160.9 Eq 18251 8\n",
      "\n",
      "\n",
      "15830;4 OMC_CENTER   CII_L        SOF-LFAV_6_S   +215.3   +166.1 Eq 18251 8\n",
      "\n",
      "\n",
      "15831;4 OMC_CENTER   CII_L        SOF-LFAV_6_S   +215.3   +171.3 Eq 18251 8\n",
      "\n",
      "\n",
      "15832;4 OMC_CENTER   CII_L        SOF-LFAV_6_S   +215.3   +176.5 Eq 18251 8\n",
      "\n",
      "\n",
      "15833;4 OMC_CENTER   CII_L        SOF-LFAV_6_S   +215.3   +181.7 Eq 18251 8\n",
      "\n",
      "\n",
      "15834;4 OMC_CENTER   CII_L        SOF-LFAV_6_S   +215.3   +186.9 Eq 18251 8\n",
      "\n",
      "\n",
      "15835;4 OMC_CENTER   CII_L        SOF-LFAV_6_S   +215.3   +192.1 Eq 18251 8\n",
      "\n",
      "\n",
      "15836;4 OMC_CENTER   CII_L        SOF-LFAV_6_S   +215.3   +197.3 Eq 18251 8\n",
      "\n",
      "\n",
      "15837;4 OMC_CENTER   CII_L        SOF-LFAV_6_S   +215.3   +202.5 Eq 18251 8\n",
      "\n",
      "\n",
      "15838;4 OMC_CENTER   CII_L        SOF-LFAV_6_S   +215.3   +207.7 Eq 18251 8\n",
      "\n",
      "\n",
      "15839;4 OMC_CENTER   CII_L        SOF-LFAV_6_S   +215.3   +212.9 Eq 18251 8\n",
      "\n",
      "\n",
      "15840;4 CAL_SIG      CII_L        SOF-LFAV_6_S   -732.2   -904.8 Eq 18251 7\n",
      "\n",
      "\n",
      "15841;4 CAL_IMG      CII_L        SOF-LFAV_6_S   -732.2   -904.8 Eq 18251 7\n",
      "\n",
      "\n",
      "15842;4 TSYS         CII_L        SOF-LFAV_6_S   -732.2   -904.8 Eq 18251 7\n",
      "\n",
      "\n",
      "15843;4 TAU_SIG      CII_L        SOF-LFAV_6_S   -732.2   -904.8 Eq 18251 7\n",
      "\n",
      "\n",
      "15844;4 TAU_IMG      CII_L        SOF-LFAV_6_S   -732.2   -904.8 Eq 18251 7\n",
      "\n",
      "\n",
      "15845;4 TAU_AVG      CII_L        SOF-LFAV_6_S   -732.2   -904.8 Eq 18251 7\n",
      "\n",
      "\n",
      "15846;4 S-H_OBS      CII_L        SOF-LFAV_6_S   -732.2   -904.8 Eq 18251 7\n",
      "\n",
      "\n",
      "15847;4 SKY-DIFF     CII_L        SOF-LFAV_6_S   -732.2   -904.8 Eq 18251 7\n",
      "\n",
      "\n",
      "15848;4 S-H_FIT      CII_L        SOF-LFAV_6_S   -732.2   -904.8 Eq 18251 7\n",
      "\n",
      "\n"
     ]
    }
   ],
   "source": [
    "show_file_content('/tmp/cmd.log', 100)"
   ]
  },
  {
   "cell_type": "markdown",
   "metadata": {},
   "source": [
    "## Additional Spectra ##\n",
    "\n",
    "- Receiver temperature (TREC)\n",
    "- System Temperature (TSYS)\n",
    "- Sky-Hot spectra, Observed and fitted (S-H_OBS, S-H_FIT)"
   ]
  },
  {
   "cell_type": "markdown",
   "metadata": {},
   "source": [
    "## example TREC spectrum ##"
   ]
  },
  {
   "cell_type": "code",
   "execution_count": 71,
   "metadata": {},
   "outputs": [],
   "source": [
    "cmd ='''\n",
    "file in \"./tmp/data/2017-02-08_GR_F371_04_0066_0010505_1900536.9/2017-02-08_GR_F371_04_0066_0010505_1900536.9_Tant.great\"\n",
    "find\n",
    "get 15469\n",
    "pl\n",
    "ha \"./tmp/plots/trec.png\" /dev png /overwr\n",
    "'''"
   ]
  },
  {
   "cell_type": "code",
   "execution_count": 72,
   "metadata": {},
   "outputs": [
    {
     "data": {
      "text/plain": [
       "'./tmp/plots/trec.png'"
      ]
     },
     "metadata": {},
     "output_type": "display_data"
    },
    {
     "data": {
      "image/png": "[encoded data removed]",
      "text/plain": [
       "<IPython.core.display.Image object>"
      ]
     },
     "metadata": {},
     "output_type": "display_data"
    }
   ],
   "source": [
    "output=RunClassScript(cmd)\n"
   ]
  },
  {
   "cell_type": "markdown",
   "metadata": {},
   "source": [
    "## example TSYS spectrum ##"
   ]
  },
  {
   "cell_type": "code",
   "execution_count": 82,
   "metadata": {},
   "outputs": [],
   "source": [
    "cmd ='''\n",
    "file in \"./tmp/data/2017-02-08_GR_F371_04_0066_0010505_1900536.9/2017-02-08_GR_F371_04_0066_0010505_1900536.9_Tant.great\"\n",
    "find\n",
    "get 15082\n",
    "pl\n",
    "ha \"./tmp/plots/tsys.png\" /dev png /overwr\n",
    "'''"
   ]
  },
  {
   "cell_type": "code",
   "execution_count": 83,
   "metadata": {},
   "outputs": [
    {
     "data": {
      "text/plain": [
       "'./tmp/plots/tsys.png'"
      ]
     },
     "metadata": {},
     "output_type": "display_data"
    },
    {
     "data": {
      "image/png": "[encoded data removed]",
      "text/plain": [
       "<IPython.core.display.Image object>"
      ]
     },
     "metadata": {},
     "output_type": "display_data"
    }
   ],
   "source": [
    "output=RunClassScript(cmd)\n"
   ]
  },
  {
   "cell_type": "markdown",
   "metadata": {},
   "source": [
    "## example SKY-HOT_OBS spectra ##"
   ]
  },
  {
   "cell_type": "code",
   "execution_count": 75,
   "metadata": {},
   "outputs": [],
   "source": [
    "cmd ='''\n",
    "file in \"./tmp/data/2017-02-08_GR_F371_04_0066_0010505_1900536.9/2017-02-08_GR_F371_04_0066_0010505_1900536.9_Tant.great\"\n",
    "find\n",
    "get 14993\n",
    "pl\n",
    "ha \"./tmp/plots/s_h.png\" /dev png /overwr\n",
    "'''"
   ]
  },
  {
   "cell_type": "code",
   "execution_count": 76,
   "metadata": {},
   "outputs": [
    {
     "data": {
      "text/plain": [
       "'./tmp/plots/s_h.png'"
      ]
     },
     "metadata": {},
     "output_type": "display_data"
    },
    {
     "data": {
      "image/png": "[encoded data removed]",
      "text/plain": [
       "<IPython.core.display.Image object>"
      ]
     },
     "metadata": {},
     "output_type": "display_data"
    }
   ],
   "source": [
    "output=RunClassScript(cmd)\n"
   ]
  },
  {
   "cell_type": "markdown",
   "metadata": {},
   "source": [
    "## example SKY-HOT_FIT spectra ##"
   ]
  },
  {
   "cell_type": "code",
   "execution_count": 78,
   "metadata": {},
   "outputs": [],
   "source": [
    "cmd ='''\n",
    "file in \"./tmp/data/2017-02-08_GR_F371_04_0066_0010505_1900536.9/2017-02-08_GR_F371_04_0066_0010505_1900536.9_Tant.great\"\n",
    "find\n",
    "get 14995\n",
    "set mod y -180 -140\n",
    "pl\n",
    "ha \"./tmp/plots/s_h_fit.png\" /dev png /overwr\n",
    "'''"
   ]
  },
  {
   "cell_type": "code",
   "execution_count": 79,
   "metadata": {},
   "outputs": [
    {
     "data": {
      "text/plain": [
       "'./tmp/plots/s_h_fit.png'"
      ]
     },
     "metadata": {},
     "output_type": "display_data"
    },
    {
     "data": {
      "image/png": "[encoded data removed]",
      "text/plain": [
       "<IPython.core.display.Image object>"
      ]
     },
     "metadata": {},
     "output_type": "display_data"
    }
   ],
   "source": [
    "output=RunClassScript(cmd)\n"
   ]
  },
  {
   "cell_type": "markdown",
   "metadata": {},
   "source": [
    "## example TAU_SIGNAL spectra ##"
   ]
  },
  {
   "cell_type": "code",
   "execution_count": 80,
   "metadata": {},
   "outputs": [],
   "source": [
    "cmd ='''\n",
    "file in \"./tmp/data/2017-02-08_GR_F371_04_0066_0010505_1900536.9/2017-02-08_GR_F371_04_0066_0010505_1900536.9_Tant.great\"\n",
    "find\n",
    "get 14990\n",
    "pl\n",
    "ha \"./tmp/plots/tau_signal.png\" /dev png /overwr\n",
    "'''"
   ]
  },
  {
   "cell_type": "code",
   "execution_count": 81,
   "metadata": {},
   "outputs": [
    {
     "data": {
      "text/plain": [
       "'./tmp/plots/tau_signal.png'"
      ]
     },
     "metadata": {},
     "output_type": "display_data"
    },
    {
     "data": {
      "image/png": "[encoded data removed]",
      "text/plain": [
       "<IPython.core.display.Image object>"
      ]
     },
     "metadata": {},
     "output_type": "display_data"
    }
   ],
   "source": [
    "output=RunClassScript(cmd)\n"
   ]
  },
  {
   "cell_type": "markdown",
   "metadata": {},
   "source": [
    "# Converting from T<sub>ant</sub> to T<sub>mb</sub> #"
   ]
  },
  {
   "cell_type": "code",
   "execution_count": 26,
   "metadata": {},
   "outputs": [],
   "source": [
    "cmd ='''\n",
    "file in \"./tmp/data/2017-02-08_GR_F371_04_0066_0010505_1900536.9/2017-02-08_GR_F371_04_0066_0010505_1900536.9_Tant.great\"\n",
    "find\n",
    "file out \"./tmp/sofia_school_Tmb.great\" single /overwr\n",
    "set source OMC_CENTER\n",
    "find\n",
    "\n",
    "def struct teles_all\n",
    "list /toc tel /var teles_all\n",
    "\n",
    "def real mb_values[21]\n",
    "\n",
    "let mb_values 0.66 0.64 0.67 0.69 0.65 0.66 0.68 0.63 0.64 0.66 0.63 0.64 0.64 0.65 0.65 0.66 0.69 0.69 0.70 0.65 0.70\n",
    "\n",
    "def int mb_counter\n",
    "let mb_counter = 1\n",
    "set unit v\n",
    "set win -90 -70\n",
    "set align v\n",
    "\n",
    "for telescope /in teles_all%tele\n",
    "    set tele 'telescope'\n",
    "    find\n",
    "    say 'telescope'\n",
    "    say 'mb_counter'\n",
    "    for i 1 to found\n",
    "        get next\n",
    "        modify beam_eff mb_values[mb_counter]\n",
    "        base 1\n",
    "        wr\n",
    "    next\n",
    "    let mb_counter 'mb_counter'+1\n",
    "next\n",
    "\n",
    "del /var teles_all\n",
    "\n",
    "'''"
   ]
  },
  {
   "cell_type": "code",
   "execution_count": 27,
   "metadata": {},
   "outputs": [],
   "source": [
    "output=RunClassScript(cmd)"
   ]
  },
  {
   "cell_type": "markdown",
   "metadata": {},
   "source": [
    "# main beam temperature T<sub>mb</sub> file #"
   ]
  },
  {
   "cell_type": "code",
   "execution_count": 84,
   "metadata": {},
   "outputs": [],
   "source": [
    "cmd='''\n",
    "file in \"./tmp/sofia_school_Tmb.great\"\n",
    "find\n",
    "list\n",
    "'''"
   ]
  },
  {
   "cell_type": "code",
   "execution_count": 85,
   "metadata": {},
   "outputs": [],
   "source": [
    "output=RunClassScript(cmd)"
   ]
  },
  {
   "cell_type": "code",
   "execution_count": 86,
   "metadata": {},
   "outputs": [
    {
     "name": "stdout",
     "output_type": "stream",
     "text": [
      "14013;5 OMC_CENTER   CII_L        SOF-LFAV_6_S   +210.1   +134.5 Eq 18251 6\n",
      "\n",
      "\n",
      "14014;5 OMC_CENTER   CII_L        SOF-LFAV_6_S   +210.1   +139.7 Eq 18251 6\n",
      "\n",
      "\n",
      "14015;5 OMC_CENTER   CII_L        SOF-LFAV_6_S   +210.1   +144.9 Eq 18251 6\n",
      "\n",
      "\n",
      "14016;5 OMC_CENTER   CII_L        SOF-LFAV_6_S   +210.1   +150.1 Eq 18251 6\n",
      "\n",
      "\n",
      "14017;5 OMC_CENTER   CII_L        SOF-LFAV_6_S   +210.1   +155.3 Eq 18251 6\n",
      "\n",
      "\n",
      "14018;5 OMC_CENTER   CII_L        SOF-LFAV_6_S   +210.1   +160.5 Eq 18251 6\n",
      "\n",
      "\n",
      "14019;5 OMC_CENTER   CII_L        SOF-LFAV_6_S   +210.1   +165.7 Eq 18251 6\n",
      "\n",
      "\n",
      "14020;5 OMC_CENTER   CII_L        SOF-LFAV_6_S   +210.1   +170.9 Eq 18251 6\n",
      "\n",
      "\n",
      "14021;5 OMC_CENTER   CII_L        SOF-LFAV_6_S   +210.1   +176.1 Eq 18251 6\n",
      "\n",
      "\n",
      "14022;5 OMC_CENTER   CII_L        SOF-LFAV_6_S   +210.1   +181.3 Eq 18251 6\n",
      "\n",
      "\n",
      "14023;5 OMC_CENTER   CII_L        SOF-LFAV_6_S   +210.1   +186.5 Eq 18251 6\n",
      "\n",
      "\n",
      "14024;5 OMC_CENTER   CII_L        SOF-LFAV_6_S   +210.1   +191.7 Eq 18251 6\n",
      "\n",
      "\n",
      "14025;5 OMC_CENTER   CII_L        SOF-LFAV_6_S   +210.1   +196.9 Eq 18251 6\n",
      "\n",
      "\n",
      "14026;5 OMC_CENTER   CII_L        SOF-LFAV_6_S   +210.1   +202.1 Eq 18251 6\n",
      "\n",
      "\n",
      "14027;5 OMC_CENTER   CII_L        SOF-LFAV_6_S   +210.1   +207.3 Eq 18251 6\n",
      "\n",
      "\n",
      "14028;5 OMC_CENTER   CII_L        SOF-LFAV_6_S   +210.1   +212.5 Eq 18251 6\n",
      "\n",
      "\n",
      "14029;5 OMC_CENTER   CII_L        SOF-LFAV_6_S   +215.3   -218.7 Eq 18251 8\n",
      "\n",
      "\n",
      "14030;5 OMC_CENTER   CII_L        SOF-LFAV_6_S   +215.3   -213.5 Eq 18251 8\n",
      "\n",
      "\n",
      "14031;5 OMC_CENTER   CII_L        SOF-LFAV_6_S   +215.3   -208.3 Eq 18251 8\n",
      "\n",
      "\n",
      "14032;5 OMC_CENTER   CII_L        SOF-LFAV_6_S   +215.3   -203.1 Eq 18251 8\n",
      "\n",
      "\n",
      "14033;5 OMC_CENTER   CII_L        SOF-LFAV_6_S   +215.3   -197.9 Eq 18251 8\n",
      "\n",
      "\n",
      "14034;5 OMC_CENTER   CII_L        SOF-LFAV_6_S   +215.3   -192.7 Eq 18251 8\n",
      "\n",
      "\n",
      "14035;5 OMC_CENTER   CII_L        SOF-LFAV_6_S   +215.3   -187.5 Eq 18251 8\n",
      "\n",
      "\n",
      "14036;5 OMC_CENTER   CII_L        SOF-LFAV_6_S   +215.3   -182.3 Eq 18251 8\n",
      "\n",
      "\n",
      "14037;5 OMC_CENTER   CII_L        SOF-LFAV_6_S   +215.3   -177.1 Eq 18251 8\n",
      "\n",
      "\n",
      "14038;5 OMC_CENTER   CII_L        SOF-LFAV_6_S   +215.3   -171.9 Eq 18251 8\n",
      "\n",
      "\n",
      "14039;5 OMC_CENTER   CII_L        SOF-LFAV_6_S   +215.3   -166.7 Eq 18251 8\n",
      "\n",
      "\n",
      "14040;5 OMC_CENTER   CII_L        SOF-LFAV_6_S   +215.3   -161.5 Eq 18251 8\n",
      "\n",
      "\n",
      "14041;5 OMC_CENTER   CII_L        SOF-LFAV_6_S   +215.3   -156.3 Eq 18251 8\n",
      "\n",
      "\n",
      "14042;5 OMC_CENTER   CII_L        SOF-LFAV_6_S   +215.3   -151.1 Eq 18251 8\n",
      "\n",
      "\n",
      "14043;5 OMC_CENTER   CII_L        SOF-LFAV_6_S   +215.3   -145.9 Eq 18251 8\n",
      "\n",
      "\n",
      "14044;5 OMC_CENTER   CII_L        SOF-LFAV_6_S   +215.3   -140.7 Eq 18251 8\n",
      "\n",
      "\n",
      "14045;5 OMC_CENTER   CII_L        SOF-LFAV_6_S   +215.3   -135.5 Eq 18251 8\n",
      "\n",
      "\n",
      "14046;5 OMC_CENTER   CII_L        SOF-LFAV_6_S   +215.3   -130.3 Eq 18251 8\n",
      "\n",
      "\n",
      "14047;5 OMC_CENTER   CII_L        SOF-LFAV_6_S   +215.3   -125.1 Eq 18251 8\n",
      "\n",
      "\n",
      "14048;5 OMC_CENTER   CII_L        SOF-LFAV_6_S   +215.3   -119.9 Eq 18251 8\n",
      "\n",
      "\n",
      "14049;5 OMC_CENTER   CII_L        SOF-LFAV_6_S   +215.3   -114.7 Eq 18251 8\n",
      "\n",
      "\n",
      "14050;5 OMC_CENTER   CII_L        SOF-LFAV_6_S   +215.3   -109.5 Eq 18251 8\n",
      "\n",
      "\n",
      "14051;5 OMC_CENTER   CII_L        SOF-LFAV_6_S   +215.3   -104.3 Eq 18251 8\n",
      "\n",
      "\n",
      "14052;5 OMC_CENTER   CII_L        SOF-LFAV_6_S   +215.3    -99.1 Eq 18251 8\n",
      "\n",
      "\n",
      "14053;5 OMC_CENTER   CII_L        SOF-LFAV_6_S   +215.3    -93.9 Eq 18251 8\n",
      "\n",
      "\n",
      "14054;5 OMC_CENTER   CII_L        SOF-LFAV_6_S   +215.3    -88.7 Eq 18251 8\n",
      "\n",
      "\n",
      "14055;5 OMC_CENTER   CII_L        SOF-LFAV_6_S   +215.3    -83.5 Eq 18251 8\n",
      "\n",
      "\n",
      "14056;5 OMC_CENTER   CII_L        SOF-LFAV_6_S   +215.3    -78.3 Eq 18251 8\n",
      "\n",
      "\n",
      "14057;5 OMC_CENTER   CII_L        SOF-LFAV_6_S   +215.3    -73.1 Eq 18251 8\n",
      "\n",
      "\n",
      "14058;5 OMC_CENTER   CII_L        SOF-LFAV_6_S   +215.3    -67.9 Eq 18251 8\n",
      "\n",
      "\n",
      "14059;5 OMC_CENTER   CII_L        SOF-LFAV_6_S   +215.3    -62.7 Eq 18251 8\n",
      "\n",
      "\n",
      "14060;5 OMC_CENTER   CII_L        SOF-LFAV_6_S   +215.3    -57.5 Eq 18251 8\n",
      "\n",
      "\n",
      "14061;5 OMC_CENTER   CII_L        SOF-LFAV_6_S   +215.3    -52.3 Eq 18251 8\n",
      "\n",
      "\n",
      "14062;5 OMC_CENTER   CII_L        SOF-LFAV_6_S   +215.3    -47.1 Eq 18251 8\n",
      "\n",
      "\n",
      "14063;5 OMC_CENTER   CII_L        SOF-LFAV_6_S   +215.3    -41.9 Eq 18251 8\n",
      "\n",
      "\n",
      "14064;5 OMC_CENTER   CII_L        SOF-LFAV_6_S   +215.3    -36.7 Eq 18251 8\n",
      "\n",
      "\n",
      "14065;5 OMC_CENTER   CII_L        SOF-LFAV_6_S   +215.3    -31.5 Eq 18251 8\n",
      "\n",
      "\n",
      "14066;5 OMC_CENTER   CII_L        SOF-LFAV_6_S   +215.3    -26.3 Eq 18251 8\n",
      "\n",
      "\n",
      "14067;5 OMC_CENTER   CII_L        SOF-LFAV_6_S   +215.3    -21.1 Eq 18251 8\n",
      "\n",
      "\n",
      "14068;5 OMC_CENTER   CII_L        SOF-LFAV_6_S   +215.3    -15.9 Eq 18251 8\n",
      "\n",
      "\n",
      "14069;5 OMC_CENTER   CII_L        SOF-LFAV_6_S   +215.3    -10.7 Eq 18251 8\n",
      "\n",
      "\n",
      "14070;5 OMC_CENTER   CII_L        SOF-LFAV_6_S   +215.3     -5.5 Eq 18251 8\n",
      "\n",
      "\n",
      "14071;5 OMC_CENTER   CII_L        SOF-LFAV_6_S   +215.3     -0.3 Eq 18251 8\n",
      "\n",
      "\n",
      "14072;5 OMC_CENTER   CII_L        SOF-LFAV_6_S   +215.3     +4.9 Eq 18251 8\n",
      "\n",
      "\n",
      "14073;5 OMC_CENTER   CII_L        SOF-LFAV_6_S   +215.3    +10.1 Eq 18251 8\n",
      "\n",
      "\n",
      "14074;5 OMC_CENTER   CII_L        SOF-LFAV_6_S   +215.3    +15.3 Eq 18251 8\n",
      "\n",
      "\n",
      "14075;5 OMC_CENTER   CII_L        SOF-LFAV_6_S   +215.3    +20.5 Eq 18251 8\n",
      "\n",
      "\n",
      "14076;5 OMC_CENTER   CII_L        SOF-LFAV_6_S   +215.3    +25.7 Eq 18251 8\n",
      "\n",
      "\n",
      "14077;5 OMC_CENTER   CII_L        SOF-LFAV_6_S   +215.3    +30.9 Eq 18251 8\n",
      "\n",
      "\n",
      "14078;5 OMC_CENTER   CII_L        SOF-LFAV_6_S   +215.3    +36.1 Eq 18251 8\n",
      "\n",
      "\n",
      "14079;5 OMC_CENTER   CII_L        SOF-LFAV_6_S   +215.3    +41.3 Eq 18251 8\n",
      "\n",
      "\n",
      "14080;5 OMC_CENTER   CII_L        SOF-LFAV_6_S   +215.3    +46.5 Eq 18251 8\n",
      "\n",
      "\n",
      "14081;5 OMC_CENTER   CII_L        SOF-LFAV_6_S   +215.3    +51.7 Eq 18251 8\n",
      "\n",
      "\n",
      "14082;5 OMC_CENTER   CII_L        SOF-LFAV_6_S   +215.3    +56.9 Eq 18251 8\n",
      "\n",
      "\n",
      "14083;5 OMC_CENTER   CII_L        SOF-LFAV_6_S   +215.3    +62.1 Eq 18251 8\n",
      "\n",
      "\n",
      "14084;5 OMC_CENTER   CII_L        SOF-LFAV_6_S   +215.3    +67.3 Eq 18251 8\n",
      "\n",
      "\n",
      "14085;5 OMC_CENTER   CII_L        SOF-LFAV_6_S   +215.3    +72.5 Eq 18251 8\n",
      "\n",
      "\n",
      "14086;5 OMC_CENTER   CII_L        SOF-LFAV_6_S   +215.3    +77.7 Eq 18251 8\n",
      "\n",
      "\n",
      "14087;5 OMC_CENTER   CII_L        SOF-LFAV_6_S   +215.3    +82.9 Eq 18251 8\n",
      "\n",
      "\n",
      "14088;5 OMC_CENTER   CII_L        SOF-LFAV_6_S   +215.3    +88.1 Eq 18251 8\n",
      "\n",
      "\n",
      "14089;5 OMC_CENTER   CII_L        SOF-LFAV_6_S   +215.3    +93.3 Eq 18251 8\n",
      "\n",
      "\n",
      "14090;5 OMC_CENTER   CII_L        SOF-LFAV_6_S   +215.3    +98.5 Eq 18251 8\n",
      "\n",
      "\n",
      "14091;5 OMC_CENTER   CII_L        SOF-LFAV_6_S   +215.3   +103.7 Eq 18251 8\n",
      "\n",
      "\n",
      "14092;5 OMC_CENTER   CII_L        SOF-LFAV_6_S   +215.3   +108.9 Eq 18251 8\n",
      "\n",
      "\n",
      "14093;5 OMC_CENTER   CII_L        SOF-LFAV_6_S   +215.3   +114.1 Eq 18251 8\n",
      "\n",
      "\n",
      "14094;5 OMC_CENTER   CII_L        SOF-LFAV_6_S   +215.3   +119.3 Eq 18251 8\n",
      "\n",
      "\n",
      "14095;5 OMC_CENTER   CII_L        SOF-LFAV_6_S   +215.3   +124.5 Eq 18251 8\n",
      "\n",
      "\n",
      "14096;5 OMC_CENTER   CII_L        SOF-LFAV_6_S   +215.3   +129.7 Eq 18251 8\n",
      "\n",
      "\n",
      "14097;5 OMC_CENTER   CII_L        SOF-LFAV_6_S   +215.3   +134.9 Eq 18251 8\n",
      "\n",
      "\n",
      "14098;5 OMC_CENTER   CII_L        SOF-LFAV_6_S   +215.3   +140.1 Eq 18251 8\n",
      "\n",
      "\n",
      "14099;5 OMC_CENTER   CII_L        SOF-LFAV_6_S   +215.3   +145.3 Eq 18251 8\n",
      "\n",
      "\n",
      "14100;5 OMC_CENTER   CII_L        SOF-LFAV_6_S   +215.3   +150.5 Eq 18251 8\n",
      "\n",
      "\n",
      "14101;5 OMC_CENTER   CII_L        SOF-LFAV_6_S   +215.3   +155.7 Eq 18251 8\n",
      "\n",
      "\n",
      "14102;5 OMC_CENTER   CII_L        SOF-LFAV_6_S   +215.3   +160.9 Eq 18251 8\n",
      "\n",
      "\n",
      "14103;5 OMC_CENTER   CII_L        SOF-LFAV_6_S   +215.3   +166.1 Eq 18251 8\n",
      "\n",
      "\n",
      "14104;5 OMC_CENTER   CII_L        SOF-LFAV_6_S   +215.3   +171.3 Eq 18251 8\n",
      "\n",
      "\n",
      "14105;5 OMC_CENTER   CII_L        SOF-LFAV_6_S   +215.3   +176.5 Eq 18251 8\n",
      "\n",
      "\n",
      "14106;5 OMC_CENTER   CII_L        SOF-LFAV_6_S   +215.3   +181.7 Eq 18251 8\n",
      "\n",
      "\n",
      "14107;5 OMC_CENTER   CII_L        SOF-LFAV_6_S   +215.3   +186.9 Eq 18251 8\n",
      "\n",
      "\n",
      "14108;5 OMC_CENTER   CII_L        SOF-LFAV_6_S   +215.3   +192.1 Eq 18251 8\n",
      "\n",
      "\n",
      "14109;5 OMC_CENTER   CII_L        SOF-LFAV_6_S   +215.3   +197.3 Eq 18251 8\n",
      "\n",
      "\n",
      "14110;5 OMC_CENTER   CII_L        SOF-LFAV_6_S   +215.3   +202.5 Eq 18251 8\n",
      "\n",
      "\n",
      "14111;5 OMC_CENTER   CII_L        SOF-LFAV_6_S   +215.3   +207.7 Eq 18251 8\n",
      "\n",
      "\n",
      "14112;5 OMC_CENTER   CII_L        SOF-LFAV_6_S   +215.3   +212.9 Eq 18251 8\n",
      "\n",
      "\n"
     ]
    }
   ],
   "source": [
    "show_file_content('/tmp/cmd.log', 100)"
   ]
  },
  {
   "cell_type": "markdown",
   "metadata": {},
   "source": [
    "# LEVEL 4 DATA#\n",
    "## Consists of **.great** files that are a combination of level 3 data products ##\n",
    "- Averaged spectra (**.great**)\n",
    "- Datacubes (**.lmv**)"
   ]
  },
  {
   "cell_type": "markdown",
   "metadata": {},
   "source": [
    "### Averaged Pixels  ###\n",
    "### Horizontal and Vertical polarizations separated ###"
   ]
  },
  {
   "cell_type": "code",
   "execution_count": 49,
   "metadata": {},
   "outputs": [],
   "source": [
    "cmd = '''\n",
    "file in \"./tmp/sofia_school_Tmb.great\"\n",
    "find\n",
    "\n",
    "file out \"./tmp/sofia_school_average_LFA_H_V.great\" single /overwr\n",
    "\n",
    "set def\n",
    "find\n",
    "set line CII_L\n",
    "set teles SOF-LFA*\n",
    "find\n",
    "set align v\n",
    "set nomatch\n",
    "\n",
    "for i 0 to 6\n",
    "    set tele SOF-LFAH*'i'*\n",
    "    find\n",
    "    average /resample\n",
    "    wr\n",
    "next\n",
    "\n",
    "for i 0 to 6\n",
    "    set tele SOF-LFAV*'i'*\n",
    "    find\n",
    "    average /resample\n",
    "    wr\n",
    "next\n",
    "\n",
    "'''"
   ]
  },
  {
   "cell_type": "code",
   "execution_count": 50,
   "metadata": {},
   "outputs": [],
   "source": [
    "output=RunClassScript(cmd)"
   ]
  },
  {
   "cell_type": "code",
   "execution_count": 87,
   "metadata": {},
   "outputs": [],
   "source": [
    "cmd = '''\n",
    "file in \"./tmp/sofia_school_average_LFA_H_V.great\"\n",
    "find\n",
    "list\n",
    "'''"
   ]
  },
  {
   "cell_type": "code",
   "execution_count": 88,
   "metadata": {},
   "outputs": [],
   "source": [
    "output=RunClassScript(cmd)"
   ]
  },
  {
   "cell_type": "code",
   "execution_count": 89,
   "metadata": {},
   "outputs": [
    {
     "name": "stdout",
     "output_type": "stream",
     "text": [
      " 1;1 OMC_CENTER   CII_L        SOF-LFAH_0_S   -187.2   -216.3 Eq 18247 2\n",
      "\n",
      "\n",
      " 2;1 OMC_CENTER   CII_L        SOF-LFAH_1_S   -177.0   -245.6 Eq 18247 2\n",
      "\n",
      "\n",
      " 3;1 OMC_CENTER   CII_L        SOF-LFAH_2_S   -206.1   -240.0 Eq 18247 2\n",
      "\n",
      "\n",
      " 4;1 OMC_CENTER   CII_L        SOF-LFAH_3_S   -217.2   -209.8 Eq 18247 2\n",
      "\n",
      "\n",
      " 5;1 OMC_CENTER   CII_L        SOF-LFAH_4_S   -195.6   -186.0 Eq 18247 2\n",
      "\n",
      "\n",
      " 6;1 OMC_CENTER   CII_L        SOF-LFAH_5_S   -164.1   -192.3 Eq 18247 2\n",
      "\n",
      "\n",
      " 7;1 OMC_CENTER   CII_L        SOF-LFAH_6_S   -156.5   -221.9 Eq 18247 2\n",
      "\n",
      "\n",
      " 8;1 OMC_CENTER   CII_L        SOF-LFAV_0_S   -183.7   -215.2 Eq 18247 2\n",
      "\n",
      "\n",
      " 9;1 OMC_CENTER   CII_L        SOF-LFAV_1_S   -174.1   -245.1 Eq 18247 2\n",
      "\n",
      "\n",
      "10;1 OMC_CENTER   CII_L        SOF-LFAV_2_S   -204.4   -236.3 Eq 18247 2\n",
      "\n",
      "\n",
      "11;1 OMC_CENTER   CII_L        SOF-LFAV_3_S   -214.3   -206.3 Eq 18247 2\n",
      "\n",
      "\n",
      "12;1 OMC_CENTER   CII_L        SOF-LFAV_4_S   -195.0   -183.8 Eq 18247 2\n",
      "\n",
      "\n",
      "13;1 OMC_CENTER   CII_L        SOF-LFAV_5_S   -164.2   -187.8 Eq 18247 2\n",
      "\n",
      "\n",
      "14;1 OMC_CENTER   CII_L        SOF-LFAV_6_S   -153.0   -219.3 Eq 18247 2\n",
      "\n",
      "\n"
     ]
    }
   ],
   "source": [
    "show_file_content(\"/tmp/cmd.log\",14)"
   ]
  },
  {
   "cell_type": "code",
   "execution_count": 90,
   "metadata": {},
   "outputs": [],
   "source": [
    "cmd ='''\n",
    "@kosma-init\n",
    "file in \"./tmp/sofia_school_average_LFA_H_V.great\"\n",
    "find\n",
    "list\n",
    "\n",
    "set unit v\n",
    "set mod x -40 40\n",
    "set mod y -30 130\n",
    "\n",
    "plot_group /group_by telescope /group_by line /smooth 50 /base 3\n",
    "ha \"./tmp/plots/average_h_v.png\" /dev png /overwr\n",
    "'''"
   ]
  },
  {
   "cell_type": "code",
   "execution_count": 91,
   "metadata": {},
   "outputs": [
    {
     "data": {
      "text/plain": [
       "'./tmp/plots/average_h_v.png'"
      ]
     },
     "metadata": {},
     "output_type": "display_data"
    },
    {
     "data": {
      "image/png": "[encoded data removed]",
      "text/plain": [
       "<IPython.core.display.Image object>"
      ]
     },
     "metadata": {},
     "output_type": "display_data"
    }
   ],
   "source": [
    "output=RunClassScript(cmd)"
   ]
  },
  {
   "cell_type": "markdown",
   "metadata": {},
   "source": [
    "### Averaged Pixels  ###\n",
    "### Horizontal and Vertical polarizations averaged together ###"
   ]
  },
  {
   "cell_type": "code",
   "execution_count": 92,
   "metadata": {},
   "outputs": [],
   "source": [
    "cmd='''\n",
    "file in \"./tmp/sofia_school_Tmb.great\"\n",
    "find\n",
    "\n",
    "file out \"./tmp/sofia_school_average_LFA_HVtogether.great\" single /overwr\n",
    "\n",
    "set align v\n",
    "set nocheck\n",
    "set telescope SOF-LFA*\n",
    "find\n",
    "for i 0 to 6\n",
    "    set tele SOF-LFA*'i'*\n",
    "    find\n",
    "    average /resample\n",
    "    wr\n",
    "next\n",
    "\n",
    "'''"
   ]
  },
  {
   "cell_type": "code",
   "execution_count": 93,
   "metadata": {},
   "outputs": [],
   "source": [
    "output=RunClassScript(cmd)"
   ]
  },
  {
   "cell_type": "code",
   "execution_count": 94,
   "metadata": {},
   "outputs": [],
   "source": [
    "cmd='''\n",
    "file in \"./tmp/sofia_school_average_LFA_HVtogether.great\"\n",
    "find \n",
    "list\n",
    "'''"
   ]
  },
  {
   "cell_type": "code",
   "execution_count": 95,
   "metadata": {},
   "outputs": [],
   "source": [
    "output=RunClassScript(cmd)"
   ]
  },
  {
   "cell_type": "code",
   "execution_count": 96,
   "metadata": {},
   "outputs": [
    {
     "name": "stdout",
     "output_type": "stream",
     "text": [
      "I-FIND,  7 observations found\n",
      "\n",
      "\n",
      "Current index contains:\n",
      "\n",
      "\n",
      "N;V Source       Line         Telescope      Lambda     Beta Sys  Sca Sub\n",
      "\n",
      "\n",
      "1;1 OMC_CENTER   CII_L        SOF-LFA-_0_S   -187.2   -216.3 Eq 18247 2\n",
      "\n",
      "\n",
      "2;1 OMC_CENTER   CII_L        SOF-LFA-_1_S   -177.0   -245.6 Eq 18247 2\n",
      "\n",
      "\n",
      "3;1 OMC_CENTER   CII_L        SOF-LFA-_2_S   -206.1   -240.0 Eq 18247 2\n",
      "\n",
      "\n",
      "4;1 OMC_CENTER   CII_L        SOF-LFA-_3_S   -217.2   -209.8 Eq 18247 2\n",
      "\n",
      "\n",
      "5;1 OMC_CENTER   CII_L        SOF-LFA-_4_S   -195.6   -186.0 Eq 18247 2\n",
      "\n",
      "\n",
      "6;1 OMC_CENTER   CII_L        SOF-LFA-_5_S   -164.1   -192.3 Eq 18247 2\n",
      "\n",
      "\n",
      "7;1 OMC_CENTER   CII_L        SOF-LFA-_6_S   -156.5   -221.9 Eq 18247 2\n",
      "\n",
      "\n"
     ]
    }
   ],
   "source": [
    "show_file_content(\"/tmp/cmd.log\")"
   ]
  },
  {
   "cell_type": "code",
   "execution_count": 97,
   "metadata": {},
   "outputs": [],
   "source": [
    "cmd ='''\n",
    "@kosma-init\n",
    "file in \"./tmp/sofia_school_average_LFA_HVtogether.great\"\n",
    "find\n",
    "list\n",
    "\n",
    "set unit v\n",
    "set mod x -40 40\n",
    "set mod y -30 130\n",
    "\n",
    "plot_group /group_by telescope /group_by line /smooth 50 /base 3\n",
    "ha \"./tmp/plots/average_h_v.png\" /dev png /overwr\n",
    "'''"
   ]
  },
  {
   "cell_type": "code",
   "execution_count": 98,
   "metadata": {},
   "outputs": [
    {
     "data": {
      "text/plain": [
       "'./tmp/plots/average_h_v.png'"
      ]
     },
     "metadata": {},
     "output_type": "display_data"
    },
    {
     "data": {
      "image/png": "[encoded data removed]",
      "text/plain": [
       "<IPython.core.display.Image object>"
      ]
     },
     "metadata": {},
     "output_type": "display_data"
    }
   ],
   "source": [
    "output=RunClassScript(cmd)"
   ]
  },
  {
   "cell_type": "markdown",
   "metadata": {},
   "source": [
    "# generate average pixel plot"
   ]
  },
  {
   "cell_type": "code",
   "execution_count": 117,
   "metadata": {},
   "outputs": [],
   "source": [
    "class_script='''\n",
    "set def\n",
    "@kosma-init\n",
    "file in \"{filename}\"\n",
    "find\n",
    "set unit v\n",
    "set mode x {min_x} {max_x}\n",
    "set mode y {min_y} {max_y}\n",
    "set line {line}\n",
    "set source {source}\n",
    "set window {window}\n",
    "set align v\n",
    "\n",
    "find \n",
    "\n",
    "go where\n",
    "draw t 15 20 {plot_filename} 6\n",
    "ha \"{plot_filename}_go_where.png\" /dev png /overwrite\n",
    "\n",
    "plot_group /group_by telescope\n",
    "draw t 15 20 {plot_filename} 6\n",
    "ha \"{plot_filename}\" /dev png /overwrite\n",
    "'''"
   ]
  },
  {
   "cell_type": "code",
   "execution_count": 118,
   "metadata": {},
   "outputs": [
    {
     "name": "stdout",
     "output_type": "stream",
     "text": [
      "tmp/sofia_school_Tmb.great\n",
      "tmp/plots/plot_group_sofia_school_Tmb.great.png\n"
     ]
    },
    {
     "data": {
      "text/html": [
       "\n",
       "    <table style=\"width:100%\">\n",
       "        <tr>\n",
       "            <td style='text-align:center;vertical-align:middle'>Test message</td>\n",
       "        </tr>\n",
       "    </table>\n",
       "    "
      ],
      "text/plain": [
       "<IPython.core.display.HTML object>"
      ]
     },
     "metadata": {},
     "output_type": "display_data"
    },
    {
     "data": {
      "text/html": [
       "    \n",
       "    <a href=tmp/plots/plot_group_sofia_school_Tmb.great.png_go_where.png  target=\"_blank\">\n",
       "    <img style='width: 48%; margin: 0px; float: left; border: 0px solid black;' src='tmp/plots/plot_group_sofia_school_Tmb.great.png_go_where.png?1643715839.2729707' />\n",
       "    </a>\n",
       "        \n",
       "    \n",
       "    <style>\n",
       "    .thumb img { \n",
       "        border:1px solid #000;\n",
       "        margin:3px;    \n",
       "        float:left;\n",
       "    }\n",
       "    .thumb span { \n",
       "        position:fixed;\n",
       "        visibility:hidden;\n",
       "    }\n",
       "    .thumb:hover, .thumb:hover span { \n",
       "        visibility:visible;\n",
       "        z-index:1;\n",
       "    }\n",
       "\n",
       "    </style>\n",
       "\n",
       "        \n",
       "    <a href=tmp/plots/plot_group_sofia_school_Tmb.great.png  target=\"_blank\">\n",
       "    <img style='width: 48%; margin: 0px; float: left; border: 0px solid black;' src='tmp/plots/plot_group_sofia_school_Tmb.great.png?1643715839.272984' />\n",
       "    </a>\n",
       "    "
      ],
      "text/plain": [
       "<IPython.core.display.HTML object>"
      ]
     },
     "metadata": {},
     "output_type": "display_data"
    },
    {
     "data": {
      "text/plain": [
       "'    \\n    <a href=tmp/plots/plot_group_sofia_school_Tmb.great.png_go_where.png  target=\"_blank\">\\n    <img style=\\'width: 48%; margin: 0px; float: left; border: 0px solid black;\\' src=\\'tmp/plots/plot_group_sofia_school_Tmb.great.png_go_where.png?1643715839.2729707\\' />\\n    </a>\\n        \\n    \\n    <style>\\n    .thumb img { \\n        border:1px solid #000;\\n        margin:3px;    \\n        float:left;\\n    }\\n    .thumb span { \\n        position:fixed;\\n        visibility:hidden;\\n    }\\n    .thumb:hover, .thumb:hover span { \\n        visibility:visible;\\n        z-index:1;\\n    }\\n\\n    </style>\\n\\n        \\n    <a href=tmp/plots/plot_group_sofia_school_Tmb.great.png  target=\"_blank\">\\n    <img style=\\'width: 48%; margin: 0px; float: left; border: 0px solid black;\\' src=\\'tmp/plots/plot_group_sofia_school_Tmb.great.png?1643715839.272984\\' />\\n    </a>\\n    '"
      ]
     },
     "execution_count": 118,
     "metadata": {},
     "output_type": "execute_result"
    }
   ],
   "source": [
    "plots_folder = \"tmp/plots\"\n",
    "os.makedirs(plots_folder,exist_ok=True)\n",
    "#\n",
    "class_cmd = {}\n",
    "class_cmd['min_x'] = -40\n",
    "class_cmd['max_x'] = 40\n",
    "class_cmd['min_y'] = -30\n",
    "class_cmd['max_y'] = 130\n",
    "class_cmd['smooth'] = 10\n",
    "class_cmd['line'] = \"CII_L\"\n",
    "class_cmd['source'] = \"OMC_CENTER\"\n",
    "class_cmd['window'] = \"-20 20\"\n",
    "\n",
    "#already_downloaded_great = glob.glob(\"tmp/data/**/*.great\")\n",
    "already_downloaded_great = glob.glob(\"tmp/*Tmb.great\")\n",
    "images = []\n",
    "for class_filename in already_downloaded_great:\n",
    "    print(class_filename)\n",
    "    class_cmd[\"filename\"] = os.path.abspath(class_filename)    \n",
    "    class_cmd[\"plot_filename\"] = \"{0}/plot_group_{1}.png\".format(plots_folder,os.path.basename(class_filename))\n",
    "    print(class_cmd[\"plot_filename\"])\n",
    "    cmd=class_script.format(**class_cmd)\n",
    "    output = RunClassScript(cmd, no_output=False,display_images=False)\n",
    "    images.extend(output.images)\n",
    "message = \"Test message\"\n",
    "PrintMessage(message)\n",
    "DisplayImagesInColumns(images,2,'test_gallery')"
   ]
  },
  {
   "cell_type": "markdown",
   "metadata": {},
   "source": [
    "# Generate overview plots\n",
    "Here is an example of simple script to plot a single class spectra and display this in the notebook"
   ]
  }
 ],
 "metadata": {
  "kernelspec": {
   "display_name": "Python 3",
   "language": "python",
   "name": "python3"
  },
  "language_info": {
   "codemirror_mode": {
    "name": "ipython",
    "version": 3
   },
   "file_extension": ".py",
   "mimetype": "text/x-python",
   "name": "python",
   "nbconvert_exporter": "python",
   "pygments_lexer": "ipython3",
   "version": "3.8.10"
  }
 },
 "nbformat": 4,
 "nbformat_minor": 1
}
